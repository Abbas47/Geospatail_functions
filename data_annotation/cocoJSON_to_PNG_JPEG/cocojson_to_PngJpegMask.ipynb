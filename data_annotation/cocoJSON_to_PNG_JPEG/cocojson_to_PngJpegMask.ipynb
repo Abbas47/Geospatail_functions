{
 "cells": [
  {
   "cell_type": "code",
   "execution_count": null,
   "metadata": {},
   "outputs": [],
   "source": [
    "'''\n",
    "To run this script user needs to make changes under \"## User input\" block only (block 3).\n",
    "1. \"# input for path\"\n",
    "    a. \"annFile\": define the cocoJSON annotation file path\n",
    "    \n",
    "Note: the final jpeg mask will be create in the same directory where the cocoJSON is saved.\n",
    "'''"
   ]
  },
  {
   "cell_type": "code",
   "execution_count": null,
   "metadata": {},
   "outputs": [],
   "source": [
    "## Import libraries\n",
    "from pycocotools.coco import COCO\n",
    "import numpy as np\n",
    "import cv2\n",
    "\n",
    "### For visualizing the outputs ###\n",
    "import matplotlib.pyplot as plt\n",
    "from matplotlib import image\n",
    "%matplotlib inline"
   ]
  },
  {
   "cell_type": "code",
   "execution_count": null,
   "metadata": {},
   "outputs": [],
   "source": [
    "## User input\n",
    "# input for path\n",
    "annFile='/home/indian/annotation/27-june-20230627T142741Z-001/27-june/train/annotations.json'"
   ]
  },
  {
   "cell_type": "code",
   "execution_count": null,
   "metadata": {},
   "outputs": [],
   "source": [
    "## Function\n",
    "def getClassName(classID, cats):\n",
    "    '''\n",
    "    Function to get the class name using classID\n",
    "    Input parameteres:\n",
    "    1. classID: Define the classID to get the name of the class\n",
    "    2. cats: provide the dictionary with classID as key and class name as value\n",
    "    '''\n",
    "    for i in range(len(cats)):\n",
    "        if cats[i]['id']==classID:\n",
    "            return cats[i]['name']\n",
    "    return \"None\""
   ]
  },
  {
   "cell_type": "code",
   "execution_count": null,
   "metadata": {},
   "outputs": [],
   "source": [
    "# Initialize the COCO api for instance annotations\n",
    "coco=COCO(annFile)\n",
    "\n",
    "# Load the categories in a variable\n",
    "catIDs = coco.getCatIds()\n",
    "cats = coco.loadCats(catIDs)\n",
    "\n",
    "print(cats)\n",
    "print('The class name is', getClassName(77, cats))"
   ]
  },
  {
   "cell_type": "code",
   "execution_count": null,
   "metadata": {},
   "outputs": [],
   "source": [
    "## GENERATE A SEGMENTATION MASK\n",
    "\n",
    "# Define the classes out of annoated classes which you want to use to create a mask.\n",
    "filterClasses = ['building', 'car', 'lawn', 'monument', 'open-ground', 'pound', 'road', 'ship', 'tree', 'water']\n",
    "\n",
    "imgIds = coco.getImgIds()\n",
    "# Fetch class IDs only corresponding to the filterClasses\n",
    "catIds = coco.getCatIds(catNms=filterClasses)\n",
    "# Define the image index from the imgIds list\n",
    "img = coco.loadImgs(imgIds[0])[0]\n",
    "annIds = coco.getAnnIds(imgIds=img['id'], catIds=catIds, iscrowd=None)\n",
    "anns = coco.loadAnns(annIds)\n",
    "# Define np zero array using heigth and width of the image\n",
    "mask = np.zeros((img['height'],img['width']))\n",
    "\n",
    "# Plot the mask with define classes\n",
    "for i in range(len(anns)):\n",
    "    className = getClassName(anns[i]['category_id'], cats)\n",
    "    pixel_value = filterClasses.index(className)+1\n",
    "    mask_segmentation = np.maximum(coco.annToMask(anns[i])*pixel_value, mask)\n",
    "plt.imshow(mask)\n",
    "\n",
    "# save mask\n",
    "cv2.imwrite(img['file_name'].replace('.jpg', '_mask.png'), mask_segmentation)\n",
    "# image.imsave(img['file_name'].replace('.jpg', '_mask.jpg'), mask_segmentation)"
   ]
  },
  {
   "cell_type": "code",
   "execution_count": null,
   "metadata": {},
   "outputs": [],
   "source": [
    "## GENERATE A BINARY MASK\n",
    "\n",
    "# Plot the mask with binary classes\n",
    "for i in range(len(anns)):\n",
    "    mask_binary = np.maximum(coco.annToMask(anns[i]), mask)\n",
    "plt.imshow(mask)\n",
    "\n",
    "# save mask\n",
    "image.imsave(img['file_name'].replace('.jpg', '_binarymask.jpg'), mask_binary)\n",
    "# image.imsave(img['file_name'].replace('.jpg', '_mask.jpg'), mask_binary)"
   ]
  }
 ],
 "metadata": {
  "kernelspec": {
   "display_name": "Python 3 (ipykernel)",
   "language": "python",
   "name": "python3"
  },
  "language_info": {
   "codemirror_mode": {
    "name": "ipython",
    "version": 3
   },
   "file_extension": ".py",
   "mimetype": "text/x-python",
   "name": "python",
   "nbconvert_exporter": "python",
   "pygments_lexer": "ipython3",
   "version": "3.10.9"
  }
 },
 "nbformat": 4,
 "nbformat_minor": 4
}
